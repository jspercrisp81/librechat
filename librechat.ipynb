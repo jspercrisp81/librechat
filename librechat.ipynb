{
 "cells": [
  {
   "cell_type": "markdown",
   "metadata": {},
   "source": [
    "<h1 dir=rtl align=center style=\"line-height:200%;font-family:vazir;color:#0099cc\">\n",
    "<font face=\"vazir\" color=\"#0099cc\">\n",
    "LibreChat\n",
    "</font>\n",
    "</h1>\n",
    "\n",
    "<p dir=rtl style=\"direction: rtl; text-align: justify; line-height:200%; font-family:vazir; font-size:medium\">\n",
    "<font face=\"vazir\" size=3>\n",
    "در این پروژه می‌خواهیم به بهانه‌ی مروری بر فصل‌های پیشین به طراحی یک ربات گفت‌وگو بپردازیم که براساس داده‌هایی که از منابع مختلف همچون فایل‌های <code>PDF</code> / <code>Epub</code>، صفحات ویکی‌پدیا، وب‌سایت‌ها و غیره جمع‌آوری می‌شوند به پرسش‌های کاربران پاسخ می‌دهد. این داده‌ها به فلسفه‌ی لینوکس، نرم‌افزار آزاد و چهره‌های بزرگی که در آن نقش داشته‌اند مربوط هستند و به همین دلیل نام لیبره‌چت (LibreChat) را برای آن انتخاب کرده‌ایم.\n",
    "<br>\n",
    "همان‌طور که احتمالاً خودتان حدس زده‌اید برای طراحی چنین رباتی نیاز است که یک معماری RAG را پیاده‌سازی کنید. با این حال، انتخاب و اختیار تمام جزئیات و گام‌های آن بر عهده‌ی خودتان است. مهم این است که مدل شما در نهایت بتواند به تعداد خوبی از پرسش‌هایی که در نظر گرفته‌ایم به‌درستی پاسخ دهد. برای آن‌که نتایج به‌دست‌آمده قابل داوری خودکار باشند خروجی‌های مدل نیاز است به‌شکل یک سری عبارات تک یا چند کلمه‌ای تجزیه و ساختاریافته شوند. در بخش تولید خروجی در این‌باره بیشتر صحبت خواهیم کرد و قالب مورد انتظار را شرح خواهیم داد.\n",
    "</font>\n",
    "</p>"
   ]
  },
  {
   "cell_type": "markdown",
   "metadata": {},
   "source": [
    "<h2 dir=rtl align=right style=\"line-height:200%;font-family:vazir;color:#0099cc\">\n",
    "<font face=\"vazir\" color=\"#0099cc\">\n",
    "بارگیری داده‌ها\n",
    "</font>\n",
    "</h2>\n",
    "\n",
    "<p dir=rtl style=\"direction: rtl; text-align: justify; line-height:200%; font-family:vazir; font-size:medium\">\n",
    "<font face=\"vazir\">\n",
    "همان‌طور که اشاره شد در این پروژه قصد داریم از داده‌هایی با انواع متفاوت و از منابع گوناگون استفاده کنیم. بنابراین در ابتدا نیاز است به‌کمک توابع <code>LangChain</code> متناسب با هر نوع داده نسبت به خوانش ‌آن‌ها اقدام کنید تا تمام داده‌ها به‌شکل سند (<code>Document</code>) در بیایند و بتوانید آن‌ها را مشابه با همدیگر مدیریت کنید. در ادامه داده‌های مورد نیاز این پروژه را با توجه به نوع‌شان تفکیک کرده و ماهیت و منبع آن‌ها را شرح داده‌ایم.\n",
    "</font>\n",
    "</p>"
   ]
  },
  {
   "cell_type": "markdown",
   "metadata": {},
   "source": [
    "<h3 dir=rtl align=right style=\"line-height:200%;font-family:vazir;color:#0099cc\">\n",
    "<font face=\"vazir\" color=\"#0099cc\">\n",
    "فایل <code>PDF</code>\n",
    "</font>\n",
    "</h3>\n",
    "\n",
    "<p dir=rtl style=\"direction: rtl; text-align: justify; line-height:200%; font-family:vazir; font-size:medium\">\n",
    "<font face=\"vazir\">\n",
    "فایل <code>PDF</code> کتابی با نام «فقط برای تفریح - داستان یک انقلاب اتفاقی» نوشته‌ی لینوس توروالدز، خالق لینوکس و دیوید دیاموند با ترجمه‌ای آزاد از <a href=\"https://jadi.net/\" target=\"_blank\">جادی</a> در پوشه‌ی داده‌های پروژه (<code>data</code>) قرار گرفته است. سعی کنید به‌کمک توابع مخصوص لنگ‌چین جهت خوانش فایل‌های <code>PDF</code> (<a href=\"https://python.langchain.com/v0.2/docs/how_to/document_loader_pdf/\" target=\"_blank\">لینک به مستندات</a>) متن این کتاب را به‌شکل سند استخراج کنید.\n",
    "</font>\n",
    "</p>\n",
    "\n",
    "<p dir=rtl style=\"direction: rtl; text-align: justify; line-height:200%; font-family:vazir; font-size:medium\">\n",
    "<font face=\"vazir\">\n",
    "<span style=\"color:green\"><b>راهنمایی:</b></span>\n",
    "توجه داشته باشید که هر کدام از توابعی که در <code>LangChain</code> جهت خوانش فایل <code>PDF</code> در نظر گرفته شده از یک کتابخانه‌ی مجزا استفاده می‌کند و معمولاً باید چندین مورد مختلف را آزمایش کرد تا موردی با کیفیت خروجی مطلوب را برگزید. با این حال، یک پیشنهاد می‌تواند استفاده از <code>PyPDFium2Loader</code> باشد. البته اگر می‌خواهید متن کتاب را هر چه بهتر و دقیق‌تر استخراج کنید می‌توانید به‌دلخواه از ابزارها و تکنیک‌های دیگری نیز بهره ببرید. پیشنهاد می‌کنیم با توجه خروجی به‌دست‌آمده و بررسی آن‌ها یک سری پیش‌پردازش‌های متنی را جهت بهبود آن‌ها اعمال کنید. چند ایده درباره‌ی پیش‌پردازش متن در صفحه‌ی پروژه در سامانه‌ی کوئرا نوشته شده است.\n",
    "</font>\n",
    "</p>\n",
    "\n",
    "<p dir=rtl style=\"direction: rtl; text-align: justify; line-height:200%; font-family:vazir; font-size:medium\">\n",
    "<font face=\"vazir\">\n",
    "<span style=\"color:orange\"><b>نکته:</b></span>\n",
    "ممکن است با جست‌وجوهای خود به نسخه‌های دیگری از این کتاب همچون فایل <code>Epub</code> نیز برخورد کنید. با این حال پیشنهاد می‌شود که در همین پروژه با چالش‌های خوانش یک فایل <code>PDF</code> فارسی (آن هم فایلی که دیجیتالی نوشته شده است) مواجه شوید تا بتوانید از تجربه‌ی خود در پروژه‌های شخصی‌تان بهره ببرید.\n",
    "</font>\n",
    "</p>"
   ]
  },
  {
   "cell_type": "code",
   "execution_count": 1,
   "metadata": {},
   "outputs": [
    {
     "name": "stderr",
     "output_type": "stream",
     "text": [
      "/home/newpc/storage/projects/llms/venv/lib/python3.12/site-packages/pypdfium2/_helpers/textpage.py:80: UserWarning: get_text_range() call with default params will be implicitly redirected to get_text_bounded()\n",
      "  warnings.warn(\"get_text_range() call with default params will be implicitly redirected to get_text_bounded()\")\n"
     ]
    }
   ],
   "source": [
    "# Don't forget to install the langchain-community and pypdfium2 packages\n",
    "from langchain_community.document_loaders import PyPDFium2Loader\n",
    "\n",
    "file_path_pdf = \"data/justforfun_persian.pdf\"\n",
    "pdfloader = PyPDFium2Loader(file_path_pdf)\n",
    "pdf_docs = pdfloader.load()"
   ]
  },
  {
   "cell_type": "code",
   "execution_count": 2,
   "metadata": {},
   "outputs": [
    {
     "name": "stdout",
     "output_type": "stream",
     "text": [
      "Number of pages (loaded Document objects): 204\n"
     ]
    }
   ],
   "source": [
    "print(\"Number of pages (loaded Document objects):\", len(pdf_docs))"
   ]
  },
  {
   "cell_type": "code",
   "execution_count": 3,
   "metadata": {},
   "outputs": [
    {
     "name": "stdout",
     "output_type": "stream",
     "text": [
      "فقط برای تفریح\n",
      "داستان یͷ انقلابی اتفاقͬ\n",
      "نوشته لینوس توروالدز خالق لینوکس و دیوید دیاموند\n",
      "ترجمه جادی\n",
      "این کتاب سالها قبل ترجمه شد و هیچ وقت از وزارت محترم ارشاد اسلامͬ مجوز چاپ\n",
      "نگرفت. دلیل مجوز نگرفتن هیچ وقت گفته نشد. شاید چون لینوکس آزاد بود، شاید چون کلمه\n",
      "سͺس توش بود که تنها چیزی در زندگͬ است که همه انجامش مͬ دن ولͬ دوستان مͬ گن هیچ\n",
      "کس نباید در موردش حرف بزنه و شاید هم چون پدر لینوس کمونیست بوده. به هرحال مهم\n",
      "نیست، حالا تصمیم دارم با تشͺر و یاد دوستͬ که کلͬ تلاش کرد این کتاب منتشر بشه، همینجا\n",
      "منتشرش کنم.\n",
      "این یͷ تجربه است تا ببینم آیا مͬ شه به ترجمه یا نوشتن کتاب آنلاین و مبتنͬ بر حمایت\n",
      "داوطلبانه حساب کرد یا نه... نه اینکه اگر کمͷ مالͬ نباشه من ادامه نمͬ دم بلͺه به این معنͬ که\n",
      "مͬ شه اینو به عنوان یͷ منبع درآمد جدی گرفت یا نه.\n",
      "\n"
     ]
    }
   ],
   "source": [
    "# Take a look at a random page of the document \n",
    "print(pdf_docs[1].page_content)"
   ]
  },
  {
   "cell_type": "code",
   "execution_count": 4,
   "metadata": {},
   "outputs": [],
   "source": [
    "from langchain_core.documents import Document\n",
    "\n",
    "\n",
    "def replace_white_spaces(text: str) -> str:\n",
    "    text = text.replace(chr(876) + ' ', 'ی ')\n",
    "    text = text.replace(chr(876) + chr(13), 'ی ')\n",
    "    text = text.replace(chr(887), 'ک')\n",
    "    return text\n",
    "\n",
    "\n",
    "for i, doc in enumerate(pdf_docs):\n",
    "    page_content = replace_white_spaces(doc.page_content)\n",
    "    metadata = doc.metadata\n",
    "    new_doc = Document(page_content)\n",
    "    new_doc.metadata = metadata\n",
    "    pdf_docs[i] = new_doc"
   ]
  },
  {
   "cell_type": "code",
   "execution_count": 5,
   "metadata": {},
   "outputs": [
    {
     "name": "stdout",
     "output_type": "stream",
     "text": [
      "صفحۀ ٩۶ تولد یک سیستم عامل، بخش یازدهم\n",
      "عملͺرد پنجره ها، حاصل مدیریت سیستم سرویس دهنده X روی محیط گرافیͺی است. سرویس دهنده\n",
      "از طریق پیام هایی با کلاینت ها صحبت می کند. مثلا کلاینت ها می گویند که “من یک پنجره به این\n",
      "اندازه می خواهم.” این رابطه از طریق لایه ای به نام سوکت ها یا به اصطلاح فنی تر یونیͺس دامین\n",
      "سوکت ها ایجاد می شود. این روش ارتباط داخلی یونیͺس است. از همین سوکت ها در اینترنت\n",
      "هم استفاده می کنیم. ارست اولین لایه سوکت را برای لینوکس نوشت تا X را روی آن اجرا کند.\n",
      "رابط ارست کمی زمخت بود و با بقیه کدها به خوبی هماهنگ نمی شد، ولی با این وجود من آن\n",
      "را پذیرفتم چون به آن احتیاج داشتیم.\n",
      "چند وقتی طول کشید تا به این واقعیت که ما یک رابط گرافیͺی داریم عادت کنم. فکر می کنم\n",
      "یͺی دوسال اول زیاد از آن استفاده نمی کردم. ولی خب، این روزها بدون آن نمی توانم زنده بمانم.\n",
      "وقتی من مشغول کارم، تعداد زیادی پنجره باز هستند.\n",
      "کار ارست نه تنها باعث شد ما پنجره داشته باشیم، که دروازه آینده را هم برای مان باز کرد.\n",
      "دامین سوکت ها برای ارتباطات داخلی استفاده می شدند که X به آن احتیاج داشت اما با استفاده از\n",
      "همین سوکت ها توانستیم جهش بزرگی ایجاد کنیم و آن شبͺه بیرونی بود ‐ ارتباط کامپیوترها با\n",
      "یͺدیͽر. بدون شبͺه، لینوکس فقط به درد کسانی می خورد که از خانه شان می خواستند با استفاده\n",
      "از مودم به جایی متصل شوند یا اصولا همه کارها را روی یک کامپیوتر محلی انجام دهند. ما با\n",
      "خوشبینی شروع کردیم به توسعه شبͺه لینوکس بر پایه همان سوکت ها، هرچند که این سوکت ها\n",
      "اصولا برای کار شبͺه طراحی نشده بودند.\n",
      "من آن قدر به نتیجه کار مطمئن بودم که تصمیم گرفتم شماره نسخه لینوکس را با یک جهش\n",
      "بالا ببرم. برنامه اولیه من این بود که نسخه 0.13 را در مارس ١٩٩٢ منتشر کنم. اما با دیدن رابط\n",
      "گرافیͺی که به خوبی کار می کرد، احساس کردم که ٩۵ درصد راه برای ارائه یک سیستم عامل قابل\n",
      "اتکا برای کارهای روزمره و دارای امͺان ارتباطات شبͺه ای فراهم شده است. پس نسخه جدید را\n",
      "0.95 نامیدم.\n",
      "پسر! من چیزی سرم نمی شد. اگر نخواهم بͽویم که کلا نفهم بودم.\n",
      "شبͺه چیز ناجوری است و تقریبا دوسال طول کشید تا وضعیت شبͺه لینوکس به جایی رسید\n",
      "که قابل ارائه شد. وقتی شبͺه را به یک سیستم اضافه می کنید، کلی مساله جدید ایجاد می شود.\n",
      "بخصوص مسایل ایمن.ی نمی دانید آن بیرون چه کسی است و دارد چͺار می کند. باید مواظب باشید\n",
      "که افراد با فرستادن پاکت های بی ربط، باعث کرش کردن سیستم شما نشوند. دیͽر نمی توانید\n",
      "کنترل کنید که چه کسانی به کامپیوتر شما وصل شوند و افراد هم تنظیمات بسیار متنوعی دارند.\n",
      "وقتی استاندارد مورد نظر IP/TCP باشد، برنامه ریزی بازهم سخت تر می شود. به نظر می رسید این\n",
      "مرحله تا ابد طول بͺشد. در پایان سال ،١٩٩٣ قابلیت شبͺه تقریبا تمام شده بود و قابل استفاده\n",
      "بود، هر چند که خیلی ها هنوز با آن مشͺلات جدی داشتند. شبͺه های غیر ٨ بیتی در این سیستم\n",
      "غیرقابل استفاده بودند.\n",
      "به خاطر هیجان بی مورد در نامیدن نسخه قبلی با شماره ،0.95 حالا حسابی در تله افتاده بودم.\n",
      "در طول دو سال باقی مانده تا عرضه نسخه ،١ مجبور شدیم کلی بامبول سوار کنیم. اعداد چندانͬ\n",
      "\n"
     ]
    }
   ],
   "source": [
    "print(pdf_docs[100].page_content)"
   ]
  },
  {
   "cell_type": "markdown",
   "metadata": {},
   "source": [
    "\n",
    "<h3 dir=rtl align=right style=\"line-height:200%;font-family:vazir;color:#0099cc\">\n",
    "<font face=\"vazir\" color=\"#0099cc\">\n",
    "لینک وب\n",
    "</font>\n",
    "</h3>\n",
    "\n",
    "<p dir=rtl style=\"direction: rtl; text-align: justify; line-height:200%; font-family:vazir; font-size:medium\">\n",
    "<font face=\"vazir\">\n",
    "محتوای دیگری که قصد استفاده از آن را داریم کتاب «لینوکس و زندگی» از <a href=\"https://jadi.net/\" target=\"_blank\">جادی</a> است که به‌صورت آزاد در دسترس است. با این حال، این کتاب نسخه‌ی <code>PDF</code> نداشته و می‌خواهیم آن را مستقیماً از بستر وب بخوانیم. بنابراین نیاز است به‌کمک توابع مرتبط لنگ‌چین، محتوای لینک <a href=\"https://linuxbook.ir/all.html\" target=\"_blank\"><code dir=ltr>https://linuxbook.ir/all.html</code></a> را بارگیری کنید. برای این کار می‌توانید از تابع <code>WebBaseLoader</code> کمک بگیرید.\n",
    "</font>\n",
    "</p>"
   ]
  },
  {
   "cell_type": "code",
   "execution_count": null,
   "metadata": {},
   "outputs": [
    {
     "name": "stderr",
     "output_type": "stream",
     "text": [
      "USER_AGENT environment variable not set, consider setting it to identify your requests.\n"
     ]
    }
   ],
   "source": [
    "from langchain_community.document_loaders import WebBaseLoader\n",
    "\n",
    "web_loader = WebBaseLoader(\"https://linuxbook.ir/all.html\")\n",
    "web_docs = web_loader.load()"
   ]
  },
  {
   "cell_type": "code",
   "execution_count": 7,
   "metadata": {},
   "outputs": [
    {
     "name": "stdout",
     "output_type": "stream",
     "text": [
      "\n",
      "\n",
      "\n",
      "\n",
      "\n",
      "\n",
      "لینوکس و زندگی | لینوکس و زندگی\n",
      "\n",
      "\n",
      "\n",
      "\n",
      "\n",
      "\n",
      "\n",
      "\n",
      "\n",
      "\n",
      "Toggle navigation\n",
      "\n",
      "\n",
      "\n",
      "\n",
      "لینوکس و زندگی\n",
      "\n",
      "\n",
      "\n",
      "روی جلد\n",
      "درباره\n",
      "دانلود\n",
      "حمایت\n",
      "\n",
      "\n",
      "\n",
      "\n",
      "\n",
      "\n",
      "\n",
      "\n",
      "\n",
      "\n",
      "\n",
      "\n",
      "\n",
      "لینوکس و زندگی\n",
      "\n",
      "\n",
      "فهرست \n",
      "لینوکس و زندگی. نوشته جادی www.jadi.netبرای دسترسی به آخرین نسخه کتاب در فرمت‌های مختلف و همچنین حمایت مالی از پروژه کتاب‌هایی برای گیک‌ها، به سایت www.jadi.ir و بخش حمایت مراجعه کنید.درباره این کتاب \n",
      "این کتاب سعی می کنه به خواننده ایده‌هایی درمورد زندگی و لینوکس بده. چرا زندگی؟ چون لینوکس یک فلسفه است و براومده از یک جامعه و کسی که می خواد توش موفق باشه با\n"
     ]
    }
   ],
   "source": [
    "# Look at the first 512 characters of the page content\n",
    "print(web_docs[0].page_content[:512])"
   ]
  },
  {
   "cell_type": "markdown",
   "metadata": {},
   "source": [
    "<h3 dir=rtl align=right style=\"line-height:200%;font-family:vazir;color:#0099cc\">\n",
    "<font face=\"vazir\" color=\"#0099cc\">\n",
    "صفحه‌ی ویکی‌پدیا\n",
    "</font>\n",
    "</h3>\n",
    "\n",
    "<p dir=rtl style=\"direction: rtl; text-align: justify; line-height:200%; font-family:vazir; font-size:medium\">\n",
    "<font face=\"vazir\">\n",
    "علاوه‌بر محتواهایی که تاکنون در دسترس ما قرار گرفت قصد داریم از محتوای موجود در صفحات ویکی‌پدیای مرتبط با آن‌ها نیز استفاده کنیم. در لیست زیر عنوان چند صفحه‌ی ویکی‌پدیا قرار داده شده که نیاز است با کمک توابعی همچون <code>WikipediaLoader</code> آن‌ها را بارگیری کنید.\n",
    "\n",
    "<ul dir=rtl>\n",
    "<li>ریچارد استالمن</li>\n",
    "<li>لینوس توروالدز</li>\n",
    "<li>لینوکس</li>\n",
    "<li>پروژه گنو</li>\n",
    "<li>نرم‌افزار آزاد</li>\n",
    "<li>بنیاد نرم‌افزار آزاد</li>\n",
    "</ul>\n",
    "</font>\n",
    "</p>\n",
    "\n",
    "<p dir=rtl style=\"direction: rtl; text-align: justify; line-height:200%; font-family:vazir; font-size:medium\">\n",
    "<font face=\"vazir\">\n",
    "<span style=\"color:red\"><b>توجه:</b></span>\n",
    "اگر چندین درخواست پشت همدیگر به <i>API</i> ویکی‌پدیا ارسال کنید ممکن است درخواست‌های شما مسدود شود و نیاز است بین درخواست‌های خود اندکی صبر کنید. برای این کار می‌توانید از <code>time.sleep</code> استفاده کرده و بین درخواست‌های خود چند ثانیه وقفه‌ی تصادفی ایجاد کنید. همچنین می‌توانید این کار را در یک حلقه انجام داده و مشخص کنید تا وقتی‌که صفحه‌ی مورد نظر بارگیری نشده چند ثانیه صبر کند و مجدد درخواست دهد.\n",
    "</font>\n",
    "</p>"
   ]
  },
  {
   "cell_type": "code",
   "execution_count": 8,
   "metadata": {},
   "outputs": [],
   "source": [
    "from langchain_community.document_loaders import WikipediaLoader\n",
    "import time, random\n",
    "\n",
    "wiki_titles = ['ریچارد استالمن', 'لینوس توروالدز', 'لینوکس', 'پروژه گنو', 'نرم‌افزار آزاد', 'بنیاد نرم‌افزار آزاد']\n",
    "wiki_docs = [WikipediaLoader(query=title, load_max_docs=1, lang='fa').load() for title in wiki_titles]"
   ]
  },
  {
   "cell_type": "code",
   "execution_count": 9,
   "metadata": {},
   "outputs": [
    {
     "name": "stdout",
     "output_type": "stream",
     "text": [
      "Number of wikipedia pages (loaded Document objects): 6\n"
     ]
    }
   ],
   "source": [
    "print(\"Number of wikipedia pages (loaded Document objects):\", len(wiki_docs))"
   ]
  },
  {
   "cell_type": "markdown",
   "metadata": {},
   "source": [
    "<h3 dir=rtl align=right style=\"line-height:200%;font-family:vazir;color:#0099cc\">\n",
    "<font face=\"vazir\" color=\"#0099cc\">\n",
    "فایل <code>HTML</code>\n",
    "</font>\n",
    "</h3>\n",
    "\n",
    "<p dir=rtl style=\"direction: rtl; text-align: justify; line-height:200%; font-family:vazir; font-size:medium\">\n",
    "<font face=\"vazir\">\n",
    "حال بیایید از وب‌سایت خود آقای استالمن هم کمک بگیریم و محتوای آن را در اختیار پروژه‌ی خود قرار دهیم. برای این کار لینک‌های داخلی وب‌سایت <a href=\"https://stallman.org\" target=\"_blank\"><code>https://stallman.org</code></a> را به‌کمک <i>Web Scraping</i> استخراج کرده‌ایم و فایل‌های <code>HTML</code> این صفحات را در پوشه‌ای به همین نام در مسیر داده‌های پروژه (<code>data</code>) ذخیره کرده‌ایم. کد مربوط به بخش استخراج این صفحات صرفاً جهت مطالعه‌ی بیشتر در اختیار شما قرار گرفته و در این مرحله تنها نیاز است که شما فایل‌های <code>HTML</code> را از پوشه‌ی مذکور بخوانید. برای این کار روش‌های متفاوتی وجود دارد اما یک راه استفاده از <code>DirectoryLoader</code> (<a href=\"https://python.langchain.com/v0.2/docs/how_to/document_loader_directory/\" target=\"_blank\">مطالعه‌ی مستندات</a>) و <code>BSHTMLLoader</code> (<a href=\"https://python.langchain.com/v0.2/docs/integrations/document_loaders/bshtml/#loader-features\"  target=\"_blank\">مطالعه‌ی مستندات</a>) به‌عنوان کلاس بارگیری‌کننده‌ی آن (آرگومان <code>loader_cls</code>) است.\n",
    "</font>\n",
    "</p>\n",
    "\n",
    "<details>\n",
    "<summary dir=rtl style=\"direction: rtl; text-align: justify; line-height:200%; font-family:vazir; font-size:medium\">مشاهده‌ی کد استخراج داده‌ها</summary>\n",
    "<br>\n",
    "\n",
    "```python\n",
    "\n",
    "# The following code is used to download the HTML content of the Stallman website\n",
    "\n",
    "import requests\n",
    "from bs4 import BeautifulSoup\n",
    "from urllib.parse import urljoin, urlparse\n",
    "import os\n",
    "\n",
    "def save_html(url, directory):\n",
    "    response = requests.get(url)\n",
    "    # Create a valid filename from the URL\n",
    "    filename = urlparse(url).path.strip('/').replace('/', '_') or 'index'\n",
    "    filepath = os.path.join(directory, f\"{filename}\")\n",
    "    \n",
    "    # Save the HTML content to a file\n",
    "    with open(filepath, 'w', encoding='utf-8') as file:\n",
    "        file.write(response.text)\n",
    "    print(f\"Saved: {filepath}\")\n",
    "\n",
    "def is_internal_link(href):\n",
    "    # Parse the href to get its components\n",
    "    parsed_href = urlparse(href)\n",
    "    \n",
    "    # Check if the link is internal\n",
    "    return (\n",
    "        (not href.startswith('#')) and # Check it is not an identifier\n",
    "        (not href.startswith('tel:')) and # Check it is not a telephone number\n",
    "        (href.endswith('.html')) and # Check it is not xml\n",
    "        (parsed_href.netloc == \"\" or  # Empty netloc indicates a relative link\n",
    "        \"stallman.org\" in parsed_href.netloc)  # Netloc contains stallman.org\n",
    "    )\n",
    "\n",
    "def extract_links(url):\n",
    "    response = requests.get(url)\n",
    "    soup = BeautifulSoup(response.text, 'html.parser')\n",
    "    links = set()\n",
    "    for a_tag in soup.find_all('a', href=True):\n",
    "        href = a_tag['href']\n",
    "        if is_internal_link(href):\n",
    "            full_url = urljoin(url, href)  # Create a full URL\n",
    "            links.add(full_url)\n",
    "    return links\n",
    "\n",
    "url = \"https://stallman.org\"\n",
    "links = extract_links(url)\n",
    "directory = \"html\"\n",
    "os.makedirs(directory, exist_ok=True)\n",
    "\n",
    "# Save each link's HTML content\n",
    "for link in links:\n",
    "    save_html(link, directory)\n",
    "\n",
    "```\n",
    "\n",
    "</details>"
   ]
  },
  {
   "cell_type": "code",
   "execution_count": 10,
   "metadata": {},
   "outputs": [
    {
     "name": "stderr",
     "output_type": "stream",
     "text": [
      "/home/newpc/storage/projects/llms/venv/lib/python3.12/site-packages/langchain_community/document_loaders/html_bs.py:51: XMLParsedAsHTMLWarning: It looks like you're using an HTML parser to parse an XML document.\n",
      "\n",
      "Assuming this really is an XML document, what you're doing might work, but you should know that using an XML parser will be more reliable. To parse this document as XML, make sure you have the Python package 'lxml' installed, and pass the keyword argument `features=\"xml\"` into the BeautifulSoup constructor.\n",
      "\n",
      "If you want or need to use an HTML parser on this document, you can make this warning go away by filtering it. To do that, run this code before calling the BeautifulSoup constructor:\n",
      "\n",
      "    from bs4 import XMLParsedAsHTMLWarning\n",
      "    import warnings\n",
      "\n",
      "    warnings.filterwarnings(\"ignore\", category=XMLParsedAsHTMLWarning)\n",
      "\n",
      "  soup = BeautifulSoup(f, **self.bs_kwargs)\n"
     ]
    }
   ],
   "source": [
    "from langchain_community.document_loaders import DirectoryLoader\n",
    "from langchain_community.document_loaders import BSHTMLLoader\n",
    "\n",
    "\n",
    "html_docs = DirectoryLoader(\"data/html\", loader_cls=BSHTMLLoader).load()"
   ]
  },
  {
   "cell_type": "code",
   "execution_count": 11,
   "metadata": {},
   "outputs": [
    {
     "name": "stdout",
     "output_type": "stream",
     "text": [
      "Number of pages (loaded Document objects): 179\n"
     ]
    }
   ],
   "source": [
    "print(\"Number of pages (loaded Document objects):\", len(html_docs))"
   ]
  },
  {
   "cell_type": "markdown",
   "metadata": {},
   "source": [
    "<h2 dir=rtl align=right style=\"line-height:200%;font-family:vazir;color:#0099cc\">\n",
    "<font face=\"vazir\" color=\"#0099cc\">\n",
    "جداسازی اسناد\n",
    "</font>\n",
    "</h2>\n",
    "\n",
    "<p dir=rtl style=\"direction: rtl; text-align: justify; line-height:200%; font-family:vazir; font-size:medium\">\n",
    "<font face=\"vazir\">\n",
    "احتمالاً طبق بررسی اسناد متوجه شده‌اید که برخی از آن‌ها ممکن است طولانی باشند و بهتر است که آن‌ها را به قطعات کوچک‌تری بشکنیم. پس در این مرحله با استفاده از روش‌های جداسازی اسناد به شکستن آن‌ها بپردازید. اگر می‌خواهید این کار را بر روی تمام اسناد خود انجام دهید می‌توانید ابتدا تمام آن‌ها در یک لیست واحد ریخته و سپس تابع مورد نظر را اعمال کنید.\n",
    "</font>\n",
    "</p>"
   ]
  },
  {
   "cell_type": "code",
   "execution_count": 19,
   "metadata": {},
   "outputs": [
    {
     "name": "stdout",
     "output_type": "stream",
     "text": [
      "2239.4427083333335 2959 12\n"
     ]
    }
   ],
   "source": [
    "from statistics import mean\n",
    "\n",
    "ls = []\n",
    "for doc in pdf_docs:\n",
    "    ls.append(len(doc.page_content))\n",
    "print(mean(ls[12:]), max(ls[12:]), min(ls[12:]))"
   ]
  },
  {
   "cell_type": "code",
   "execution_count": 26,
   "metadata": {},
   "outputs": [
    {
     "name": "stdout",
     "output_type": "stream",
     "text": [
      "صفحۀ ۴٠ تولد یک سیستم عامل، بخش یͺم\n",
      "نباشم از میͺرودرایو خود سینکلر استفاده کنم اما درایوری که روی این کنترل کننده بود چنگی به\n",
      "دل نمی زند و در نهایت خودم نشستم و کنترل کننده آن را نوشتم. طی نوشتن این کنترل کننده\n",
      "به چند باگ١ در سیستم عامل هم پی بردم ‐ یا لااقل به چند ناهماهنگی بین چیزی که راهنماها\n",
      "ادعا می کردند سیستم عامل انجام می دهد و آنچه که واقعا انجام می داد. این ها را کشف کردم چون\n",
      "برنامه ای که نوشته بودم درست کار نمی کرد.\n",
      "کدهای من همیشه، اوم،... بدون نقص هستند. پس مطمئن هستم مشͺل باید از جای دیͽری\n",
      "باشد. پس بررسی را ادامه دادم و سیستم عامل را دیس اسمبل٢ کردم.\n",
      "می توانید کتاب هایی را بخرید که حاوی بخش هایی از کدهای سیستم عامل باشند. این کمک\n",
      "می کند. همچنین نیازمند یک دیس اسمبلر هستید؛ ابزاری که برنامه به زبان ماشین را می گیرد و\n",
      "آن را به زبان اسمبلی ترجمه می کند. این برنامه هم کمک بزرگی است چون وقتی با زبان ماشین\n",
      "روبرو هستید، دنبال کردن دستورات بسیار مشͺل است. مثلا جهش ها فقط به آدرس های عددی\n",
      "اشاره می کنند و پیͽیری آن ها دردسر زیادی دارد. یک دیس اسمبلر خوب، این آدرس های عددی را\n",
      "به اسم های معنادارتری ترجمه می کند یا حتی به خود شما اجازه می دهد تا اسم های مورد نظرتان\n",
      "را وارد کنید. در عین حال کمک می کند تا مجموعه ای از دستورالعمل ها که کار خاصی انجام\n",
      "می دهند را شناسایی کنید. من هم دیس اسمبلر خودم را داشتم که ترجمه های نسبتا خوبی انجام\n",
      "می داد و لیست های قابل فهمی تولید می کرد. اگر برنامه کار نمی کرد می توانستم به آن بͽویم که\n",
      "در طول لیست جلو برود و از جای خاص،ی اجرای برنامه را پیͽیری کند و با اینکار دقیقا می دیدم\n",
      "که سیستم عامل مشغول انجام چه کاری است. گاهی هم نه به خاطر کشف باگ ها، که به خاطر\n",
      "درک بهتر اینکه چه چیزی در جریان است، از دیس اسمبلر استفاده می کردم.\n",
      "یͺی از چیزهایی که در مورد تنفرم بودد، وضعیت “فقط خواندنͬ” سیستم عامل بود. نمی توانستید\n",
      "آن را تغییر بدهید. می شد کدهایی را به بخش هایی از آن اضافه کرد ولی فقط به همان بخش هایی\n",
      "که از قبل این قابلیت در آن ها تعبیه شده بود. بسیار بهتر می بود اگر می شد کلا سیستم عامل را\n",
      "٣ (فقط خواندنͬ)\n",
      "با یک سیستم عامل جدید جایͽزین کرد. پیاده سازی سیستم عامل در حافظه رام\n",
      "ایده بدی است.\n",
      "با وجودی چیزهایی که درباره شیفتگی تکنولوژیک فنلاندی ها گفتم، سینکلر کیو.ال. نتوانست\n",
      "جای پای محͺمی در بین هفتمین ملت بزرگ اروپا، پیدا کند. به خاطر بازار کوچک سینکلر در\n",
      "فنلاند، هربار که می خواستید برای ماشین فوق العاده و لبه تکنولوژی تان تجهیزات جانبی بخرید،\n",
      "مجبور بودید این کار را با پست و از طریق انگلستان انجام دهید. اول باید سراغ کاتالوگ ها\n",
      "می رفتید و به امید یافتن کسی که قطعه مورد نظر شما را بفروشد، آن ها را زیر و رو می کردید.\n",
      "بعد باید چک های تضمینی به اسم فروشنده تهیه می کردید و چند هفته ای برای دریافت جنس\n",
      "١اشͺال در سیست های کامپیوتری. برای اولین بار اشͺالات کامپیوترها به خاطر گیر کردن حشرات در آن ها\n",
      "مشاهده می شدند و به همین دلیل از کلمه “باگ” به معنی حشره برای اشاره به این مفهوم استفاده شده.\n",
      "٢Disassemble ‐ تبدیل کد اجرایی به کد اسبمل.ی نوعی مهندسی معکوس برای رسیدن به کد قابل تغییر از یک\n",
      "برنامه اجرایی\n",
      "٣ROM ‐ حافظه فقط خواندنی که یͺبار روی آن می نویسید و بعد فقط از آن می خوانید. این حافظه معمولا برای\n",
      "بارگزاری برنامه ها یا سیستم عامل در کامپیوتر استفاده می شود.\n",
      "\n"
     ]
    }
   ],
   "source": [
    "print(pdf_docs[44].page_content)"
   ]
  },
  {
   "cell_type": "code",
   "execution_count": 30,
   "metadata": {},
   "outputs": [],
   "source": [
    "from langchain_text_splitters import RecursiveCharacterTextSplitter\n",
    "\n",
    "\n",
    "recursive_splitter = RecursiveCharacterTextSplitter(\n",
    "    chunk_size=1000, chunk_overlap=50\n",
    ")\n",
    "\n",
    "splitted_pdf_docs = recursive_splitter.split_documents(pdf_docs)"
   ]
  },
  {
   "cell_type": "code",
   "execution_count": 37,
   "metadata": {},
   "outputs": [
    {
     "name": "stdout",
     "output_type": "stream",
     "text": [
      "لینوس بندیکت توروالدز (به سوئدی: Linus Benedict Torvalds؛ آوایش: ˈli:nɵs ˈtu:rvalds، ) (متولد ۲۸ دسامبر ۱۹۶۹ در هلسینکی فنلاند) یک مهندس نرم‌افزار فنلاندی-آمریکایی است که به خاطر آغاز و توسعهٔ هسته لینوکس و همچنین نرم‌افزار گیت شناخته می‌شود. او پس از چندی معمار ارشد پروژهٔ هسته لینوکس شد و هم‌اکنون مسئولیت هماهنگ کنندهٔ پروژه (هسته لینوکس) را بر عهده دارد.\n",
      "\n",
      "\n",
      "== سال‌های آغازین ==\n",
      "لینوس توروالدز در ۲۸ دسامبر ۱۹۶۹ (۷ دی ۱۳۴۸) در خانواده‌ای فنلاندی-سوئدی چشم به جهان گشود. پدرش نیلز توروالدز خبرنگار رادیو و تلویزیون و مادرش آنا خبرنگار خبرگزاری فنلاند است. پدر و مادر لینوس هردو در دوره دانشجویی از دانشجویان فعال چپ‌گرا بودند و در جنبش دانشجویی دانشگاه هلسینکی نقش عمده‌ای ایفا کردند. خانواده او جزء اقلیت سوئدی زبان (۵٫۵ درصد) جمعیت فنلاند بودند. نام توروالدز برگرفته از لینوس پاولینگ، برنده آمریکایی جایزه نوبل شیمی، به نام لینوس نام‌گذاری شد. همچنین در کتاب کد یاغی: لینوکس و انقلاب متن‌باز توروالدز نقل قول می‌کند که «من فکر می‌کنم که براساس شخصیت کارتونی لینوس در کارتون پینوتس نامگذاری شدم». یعنی نصفی از نام او براساس برنده جایزه نوبل شیمی و نصفی دیگر بر اساس یک شخصیت کارتونی پتو بر دوش است.\n",
      "او انگیزه‌اش برای برنامه‌نویس‌شدن را اینگونه بیان می‌کند که پول کافی برای اجرای یونیکس بر روی دستگاه شخصی‌اش نداشته و دوستانش بازی‌هایی روی رایانه‌شان می‌کردند که او توان پرداخت برای آن‌ها را نداشت. برای رفع این نیاز به یادگیری برنامه‌نویسی روی آورد.\n",
      "توروالدز از سال ۱۹۸۸ تا سال ۱۹۹۶ در دانشگاه هلسینکی در مقاطع لیسانس و فوق لیسانس از رشته مهندسی نرم‌افزار در گروه تحقیقاتی NODES بود تحصیلات آکادمیک او بعد از اولین سال از مطالعه او که به ارتش فنلاند پیوست متوقف شد، او به عنوان افسر برنامه‌های آموزشی به مدت ۱۱ ماه در ارتش فنلاند خدمت کرد. در ارتش او با درجه ستوان دومی، فرماندهی یک دسته در رسته توپخانه را برعهده داشت.\n",
      "در سال ۱۹۹۰ مطالعات دانشگاهی خود را دوباره ادامه داد و برای اولین بار یونیکس را در قالب یک میکرو ویکس که التراایکس را اجرا می‌کرد منتشر کرد. عنوان مقالهٔ فوق لیسانس او لینوکس: یک سیستم‌عامل قابل حمل (Portable) بود.\n",
      "علاقه او به کامپیوترها با یک کمودور VIC-۲۰ شروع شد. بعد از VIC-۲۰ او یک Sinclair QL خرید که تغییرات زیادی روی انجام داد به خصوص سیستم‌عامل آن را بیشتر از هر جاییش تغییر داد. یک زبان اسمبلی و یک ویرایشگر متن برای QL و همچنین چند بازی نوشت. او به عنوان نویسنده یک ماشین Pac-Man که Cool Man نامیده شد شناخته شده‌است. در پنجم ژانویه سال ۱۹۹۱ یک کامپیوتر IBM مبتنی بر اینتل ۸۰۳۸۶ خرید و یک ماه را با انجام بازی شاهزاده ایران (بازی رایانه‌ای) قبل از دریافت کپی مینیکس که باعث می‌شد که بتواند روی لینوکس کار کند گذراند.\n",
      "\n",
      "\n",
      "== نام‌گذاری لینوکس ==\n",
      "مقاله اصلی :تاریخچه لینوکس\n",
      "در آغاز توروالدز خواست که هسته‌ای که خود توسعه داده بود، فریکس (freax) که ترکیبی از دو واژه انگلیسی رایگان(free) و عجیب (freak) نامگذاری کند، اما دوست او Ari Lemmke که مدیریت FTP سرور را در جایی که هسته برای اولین بار به منظور دانلود میزبانی شده بود بر عهده داشت، آن را پوشه لینوکس توروالدز نامگذاری کرد.\n",
      "\n",
      "\n",
      "== شناخت و نشان تجاری ==\n",
      "حدود ۲ درصد از هسته لینوکس همان‌طور که در سال ۲۰۰۶ توسط خود توروالدز نوشته شد. چون لینوکس هزاران پشتیبان دارد، همچین درصدی یک سهم شخصی بارز در سراسر کد را نمایش می‌دهد. توروالدز صلاحیت بررسی نهایی روی اینکه کد جدید نادرست وارد هسته لینوکس استاندارد شده‌است یا نه را هنوز بر عهده دارد.\n",
      "توروالدز صاحب نشان تجاری لینوکس است و نحوه استفاده از آن را مخصوصاً در موسسه‌های نشان لینوکس کنترل می‌کند.\n",
      "\n",
      "\n",
      "== زندگی شخصی ==\n",
      "توروالدز با تاو مونی ازدواج کرد. توروالدز اولین بار در پاییز ۱۹۹۳ با تاو آشنا شد؛ وی در حال راه‌اندازی یک آزمایشگاه برای تمرینات دانش آموزان بود. او برای تست یک ایمیل به تویی فرستاد و تاو در جواب آن ایمیل با اون قرار گذاشته بود. لینوس و تاو بعد با هم ازدواج کردند و الان سه دختر دارند، پاتریشا، دانیلا و کلستی.\n",
      "\n",
      "در سال ۲۰۱۰ توروالدز شهروند ایالات متحده آمریکا شد و برای رای دادن در آمریکا ثبت نام کرد. او به هیچ گروه سیاسی در آمریکا وابسته نیست و می‌گوید:«کاملاً صریح بگویم من آنقدر غرور شخصی دارم که بخواهم با هر یک از آنها در ارتباط باشم».\n",
      "\n",
      "\n",
      "== به رسمیت شناخته شدن ==\n",
      "در سال ۱۹۹۶ سیارک ۹۷۹۳ به نام توروالدز نام گذاری شد.\n",
      "در سال ۱۹۹۷ مدرک کارشناسی ارشد خود را از گروه علوم کامپیوتری دانشگاه هلسینکی دریافت کرد.\n",
      "در سال ۱۹۹۸ جایزهٔ EFF Pioneer Award را د\n"
     ]
    }
   ],
   "source": [
    "from langchain_text_splitters import RecursiveCharacterTextSplitter\n",
    "\n",
    "\n",
    "recursive_splitter = RecursiveCharacterTextSplitter(\n",
    "    chunk_size=1000, chunk_overlap=50\n",
    ")\n",
    "\n",
    "# splitted_pdf_docs = recursive_splitter.split_documents(pdf_docs)\n",
    "print(wiki_docs[1][0].page_content)"
   ]
  },
  {
   "cell_type": "code",
   "execution_count": 38,
   "metadata": {},
   "outputs": [
    {
     "data": {
      "text/plain": [
       "393"
      ]
     },
     "execution_count": 38,
     "metadata": {},
     "output_type": "execute_result"
    }
   ],
   "source": [
    "s = '''\n",
    "حدود ۲ درصد از هسته لینوکس همان‌طور که در سال ۲۰۰۶ توسط خود توروالدز نوشته شد. چون لینوکس هزاران پشتیبان دارد، همچین درصدی یک سهم شخصی بارز در سراسر کد را نمایش می‌دهد. توروالدز صلاحیت بررسی نهایی روی اینکه کد جدید نادرست وارد هسته لینوکس استاندارد شده‌است یا نه را هنوز بر عهده دارد.\n",
    "توروالدز صاحب نشان تجاری لینوکس است و نحوه استفاده از آن را مخصوصاً در موسسه‌های نشان لینوکس کنترل می‌کند.\n",
    "'''\n",
    "len(s)"
   ]
  },
  {
   "cell_type": "code",
   "execution_count": null,
   "metadata": {},
   "outputs": [],
   "source": [
    "from langchain_text_splitters import HTMLHeaderTextSplitter\n",
    "from langchain_text_splitters import HTMLSectionSplitter\n",
    "from langchain_text_splitters import RecursiveCharacterTextSplitter\n",
    "from langchain_text_splitters import html\n",
    "\n",
    "\n"
   ]
  },
  {
   "cell_type": "markdown",
   "metadata": {},
   "source": [
    "<h2 dir=rtl align=right style=\"line-height:200%;font-family:vazir;color:#0099cc\">\n",
    "<font face=\"vazir\" color=\"#0099cc\">\n",
    "تعبیه‌سازی و مخزن برداری\n",
    "</font>\n",
    "</h2>\n",
    "\n",
    "<p dir=rtl style=\"direction: rtl; text-align: justify; line-height:200%; font-family:vazir; font-size:medium\">\n",
    "<font face=\"vazir\">\n",
    "برای آن‌که بتوانیم اسناد مرتبط با پرسش کاربر را پیدا کردیم یا به‌اصطلاح جست‌وجوی معنایی انجام دهیم نیاز است که آن‌ها را به‌شکل بردارهای عددی تعبیه کرده و در یک مخزن برداری ذخیره کنیم. در این مرحله می‌توانید از هر مدل تعبیه‌سازی که می‌خواهید استفاده کنید. با این حال به چندزبانه بودن اسناد توجه داشته باشید و ترجیحاً از یک مدل چندزبانه استفاده کنید یا این‌که تکنیکی برای رفع این چالش بیابید.\n",
    "</font>\n",
    "</p>\n",
    "\n",
    "<p dir=rtl style=\"direction: rtl; text-align: justify; line-height:200%; font-family:vazir; font-size:medium\">\n",
    "<font face=\"vazir\">\n",
    "<span style=\"color:orange\"><b>نکته‌ی ۱:</b></span>\n",
    "اگر قصد دارید از مدل‌های تعبیه‌ساز <i>Cohere</i> استفاده کنید به محدودیت تعداد درخواست ماهانه توجه داشته باشید. ممکن است که اگر چند مرحله این بخش را تکرار کنید حد مجاز تعداد درخواست را رد کنید. یک راه‌حل این است که در صورت وقوع محدودیت از یک حساب جدید استفاده کنید یا این‌که در زمان پیاده‌سازی اولیه و آزمایش کدهای خود از یک مدل دیگر همچون مدل‌های موجود در هاگینگ‌فیس بهره ببرید و وقتی‌که مطمئن شدید همه‌چیز به‌درستی کار می‌کند به‌سراغ آزمایش این مدل بروید.\n",
    "</font>\n",
    "</p>\n",
    "\n",
    "<p dir=rtl style=\"direction: rtl; text-align: justify; line-height:200%; font-family:vazir; font-size:medium\">\n",
    "<font face=\"vazir\">\n",
    "<span style=\"color:orange\"><b>نکته‌ی ۲:</b></span>\n",
    "اگر تصمیم گرفتید که از مدل‌های هاگینگ‌فیس بهره ببرید اکیداً پیشنهاد می‌کنیم که کدهای خود را بر بستر گوگل کولب اجرا کنید تا با مشکلات نصب کتابخانه‌ها و همچنین محدودیت‌های سخت‌افزاری مواجه نشوید. در این‌صورت فراموش نکنید که قابلیت <code>GPU</code> کولب را فعال کرده باشید.\n",
    "</font>\n",
    "</p>\n",
    "\n",
    "<p dir=rtl style=\"direction: rtl; text-align: justify; line-height:200%; font-family:vazir; font-size:medium\">\n",
    "<font face=\"vazir\">\n",
    "<span style=\"color:red\"><b>توجه:</b></span>\n",
    "در هنگام ساخت مخزن برداری فراموش نکنید که آرگومان <code>persist_directory</code> را مقداردهی کرده باشید تا مطمئن شوید که اسناد و تعبیه‌ها ذخیره می‌شوند. در این‌صورت دیگر در استفاده‌های بعدی از کدهای‌تان نیاز به تعبیه‌سازی مجدد اسناد نخواهید داشت.\n",
    "</font>\n",
    "</p>"
   ]
  },
  {
   "cell_type": "code",
   "execution_count": null,
   "metadata": {},
   "outputs": [],
   "source": [
    "# TODO: Define an embedding model and set API key if necessary"
   ]
  },
  {
   "cell_type": "code",
   "execution_count": null,
   "metadata": {},
   "outputs": [],
   "source": [
    "# TODO: Make a vectorstore and add the documents to it"
   ]
  },
  {
   "cell_type": "markdown",
   "metadata": {},
   "source": [
    "<h2 dir=rtl align=right style=\"line-height:200%;font-family:vazir;color:#0099cc\">\n",
    "<font face=\"vazir\" color=\"#0099cc\">\n",
    "مدل پرسش‌وپاسخ\n",
    "</font>\n",
    "</h2>\n",
    "\n",
    "<p dir=rtl style=\"direction: rtl; text-align: justify; line-height:200%; font-family:vazir; font-size:medium\">\n",
    "<font face=\"vazir\">\n",
    "اکنون می‌توانید به هر روشی که علاقه دارید یک زنجیره‌ی <code>LangChain</code> طراحی کنید که بتواند به پرسش کاربر در قالب خواسته‌شده پاسخ دهد. قاعدتاً این زنجیره باید شامل بازیابی اسناد به‌کمک مخزن برداری نیز باشد. همچنین می‌توانید یک دستور سفارشی‌شده و مناسب با خواسته‌های مسئله بنویسید و سعی کنید با بهبود آن کیفیت پاسخ‌های مدل را نیز افزایش دهید. با این حال، مهم‌ترین نکته در این بخش فرمت خروجی مدل است که در ادامه به شرح آن می‌پردازیم. برای رعایت این فرمت احتمالاً نیاز به استفاده از تجزیه‌کننده (Parser) در زنجیره‌ی خود خواهید داشت.\n",
    "</font>\n",
    "</p>\n",
    "\n",
    "<h3 dir=rtl align=right style=\"line-height:200%;font-family:vazir;color:#0099cc\">\n",
    "<font face=\"vazir\" color=\"#0099cc\">\n",
    "سوالات و فرمت خروجی\n",
    "</font>\n",
    "</h3>\n",
    "\n",
    "<p dir=rtl style=\"direction: rtl; text-align: justify; line-height:200%; font-family:vazir; font-size:medium\">\n",
    "<font face=\"vazir\">\n",
    "با این‌که مدل شما قادر است به‌صورت کامل‌تر و نزدیک‌تر به زبان انسان به پرسش‌های کاربر پاسخ دهد اما از آن‌جا که  بتوانیم عملکرد مدل شما را به‌صورت خودکار توسط سیستم داوری ارزیابی کنیم یک سری سوال مشخص در اختیارتان قرار داده‌ایم که پاسخ‌هایی تک یا چند کلمه‌ای دارند. سیستم داوری وجود عبارت پاسخ درست (یا معادل‌های آن) را در خروجی‌های شما جست‌وجو می‌کند و اگر آن را پیدا کند به‌عنوان پاسخی درست در نظر می‌گیرد. با این حال توجه داشته باشید اگر خروجی مدل شما <u>بیش از ۴ کلمه</u> باشد به‌عنوان یک متن طولانی در نظر گرفته می‌شود و <span style=\"color:red\">نادرست</span> تشخیص داده می‌شود زیرا تمام پاسخ‌ها کوتاه و مشخص هستند.\n",
    "</font>\n",
    "</p>\n",
    "\n",
    "<p dir=rtl style=\"direction: rtl; text-align: justify; line-height:200%; font-family:vazir; font-size:medium\">\n",
    "<font face=\"vazir\">\n",
    "خروجی نهایی شما به‌ازای هر سوال باید یک دیکشنری شامل دو کلید <code>question_number</code> و <code>answer</code> باشد که به‌ترتیب از جنس <code>int</code> و <code>str</code> هستند. در این دیکشنری شماره‌ی سوال به‌عنوان مقدار کلید <code>question_number</code> و پاسخ به‌عنوان مقدار کلید <code>answer</code> قرار می‌گیرد. به‌عنوان مثال اگر پاسخ پرسش شماره‌ی ۱۲، کوئرا باشد دیکشنری مربوط به آن به‌صورت زیر خواهد بود:\n",
    "\n",
    "```python\n",
    "{\n",
    "    \"question_number\": 12,\n",
    "    \"answer\": \"کوئرا\"\n",
    "}\n",
    "```\n",
    "</font>\n",
    "</p>\n",
    "\n",
    "<p dir=rtl style=\"direction: rtl; text-align: justify; line-height:200%; font-family:vazir; font-size:medium\">\n",
    "<font face=\"vazir\">\n",
    "در انتهای نت‌بوک تمام این دیکشنری‌ها (از متغیر <code>answer1</code> تا <code>answer16</code>) را داخل یک لیست واحد ریخته و به‌صورت یک فایل <code>JSON</code> ذخیره خواهیم کرد تا بتوانید آن را در سامانه‌ی داوری آپلود کرده و نتایج کار خود را مشاهده کنید.\n",
    "</font>\n",
    "</p>\n"
   ]
  },
  {
   "cell_type": "code",
   "execution_count": null,
   "metadata": {},
   "outputs": [],
   "source": [
    "rag_chain = None # TODO: Define a RAG chain"
   ]
  },
  {
   "cell_type": "code",
   "execution_count": null,
   "metadata": {},
   "outputs": [],
   "source": [
    "query = \"پرسش ۱: توروالدز برای کار در چه موسسه‌ای دانشگاه هلسینکی را ترک گفت؟\"\n",
    "answer1 = None"
   ]
  },
  {
   "cell_type": "code",
   "execution_count": null,
   "metadata": {},
   "outputs": [],
   "source": [
    "query = \"پرسش ۲: آندرو تاننباوم استاد کدام دانشگاه است؟\"\n",
    "answer2 = None"
   ]
  },
  {
   "cell_type": "code",
   "execution_count": null,
   "metadata": {},
   "outputs": [],
   "source": [
    "query = \"پرسش ۳: در سال ۲۰۰۶ چند درصد از هسته لینوکس توسط توروالدز نوشته شد (به عدد)؟\"\n",
    "answer3 = None"
   ]
  },
  {
   "cell_type": "code",
   "execution_count": null,
   "metadata": {},
   "outputs": [],
   "source": [
    "query = \"پرسش ۴: چه کسی بنیاد نرم‌افزارهای آزاد را بنا نهاد؟\"\n",
    "answer4 = None"
   ]
  },
  {
   "cell_type": "code",
   "execution_count": null,
   "metadata": {},
   "outputs": [],
   "source": [
    "query = \"پرسش ۵: ریچارد استالمن در ۲۱ سالگی در کدام شرکت کار می‌کرد؟\"\n",
    "answer5 = None"
   ]
  },
  {
   "cell_type": "code",
   "execution_count": null,
   "metadata": {},
   "outputs": [],
   "source": [
    "query = \"پرسش ۶: یکی از مشهورترین پروژه‌هایی که در ابتدا پروژه‌ی آزاد و آکادمیک بود اما بعد وارد محیط بسته‌ی تجاری شد چه بود؟\"\n",
    "answer6 = None"
   ]
  },
  {
   "cell_type": "code",
   "execution_count": null,
   "metadata": {},
   "outputs": [],
   "source": [
    "query = \"پرسش ۷: لینکدین در سانسور کردن حساب‌ها به درخواست چه کشوری مشهور است؟\"\n",
    "answer7 = None"
   ]
  },
  {
   "cell_type": "code",
   "execution_count": null,
   "metadata": {},
   "outputs": [],
   "source": [
    "query = \"پرسش ۸: ریچارد استالمن پیشنهاد می‌کند به‌جای گوگل مپ از چه سرویسی استفاده کنیم؟\"\n",
    "answer8 = None"
   ]
  },
  {
   "cell_type": "code",
   "execution_count": null,
   "metadata": {},
   "outputs": [],
   "source": [
    "query = \"پرسش ۹: آزادی صفرم در نرم‌افزار آزاد چه عنوانی دارد؟\"\n",
    "answer9 = None"
   ]
  },
  {
   "cell_type": "code",
   "execution_count": null,
   "metadata": {},
   "outputs": [],
   "source": [
    "query = \"پرسش ۱۰: آیا یک نرم‌افزار آزاد لزوماً رایگان است (بله یا خیر)؟\"\n",
    "answer10 = None"
   ]
  },
  {
   "cell_type": "code",
   "execution_count": null,
   "metadata": {},
   "outputs": [],
   "source": [
    "query = \"پرسش ۱۱: استاندارد ناظر بر فایل‌ها و دایرکتوری‌ها به‌اختصار چه نامیده می‌شود؟\"\n",
    "answer11 = None"
   ]
  },
  {
   "cell_type": "code",
   "execution_count": null,
   "metadata": {},
   "outputs": [],
   "source": [
    "query = \"پرسش ۱۲: اولین ریپلای به ایمیل درخواست کار چیست؟\"\n",
    "answer12 = None"
   ]
  },
  {
   "cell_type": "code",
   "execution_count": null,
   "metadata": {},
   "outputs": [],
   "source": [
    "query = \"پرسش ۱۳: اگر امروز که از شنبه ورزش می‌کنم در واقع دچار چه بایاسی شده‌ایم؟\"\n",
    "answer13 = None"
   ]
  },
  {
   "cell_type": "code",
   "execution_count": null,
   "metadata": {},
   "outputs": [],
   "source": [
    "query = \"پرسش ۱۴: دنبال یاد گرفتن کدوم یکی باشیم: برنامه‌نویسی یا دستور زبان یک زبان خاص؟\"\n",
    "answer14 = None"
   ]
  },
  {
   "cell_type": "code",
   "execution_count": null,
   "metadata": {},
   "outputs": [],
   "source": [
    "query = \"پرسش ۱۵: اگه هدف‌مون اینه که بریم گوگل کار کنیم اول از همه چه‌چیزی رو سرچ کنیم؟\"\n",
    "answer15 = None"
   ]
  },
  {
   "cell_type": "code",
   "execution_count": null,
   "metadata": {},
   "outputs": [],
   "source": [
    "query = \"پرسش ۱۶: در بیانیه‌ی هکرها گفته شده که جرم آن‌ها در یک کلمه چیست؟\"\n",
    "answer16 = None"
   ]
  },
  {
   "cell_type": "markdown",
   "metadata": {},
   "source": [
    "<h2 dir=rtl align=right style=\"line-height:200%;font-family:vazir;color:#0099cc\">\n",
    "<font face=\"vazir\" color=\"#0099cc\">\n",
    "نحوه‌ی امتیازدهی\n",
    "</font>\n",
    "</h2>\n",
    "\n",
    "<p dir=rtl style=\"direction: rtl; text-align: justify; line-height:200%; font-family:vazir; font-size:medium\">\n",
    "<font face=\"vazir\">\n",
    "برای آن‌که بتوانید با <span style=\"color:green\">موفقیت</span> امتیاز این پروژه را کسب کنید نیاز است که مدل شما از بین این ۱۶ پرسش حداقل به <u>۱۲ مورد</u> پاسخ درست داده باشد.\n",
    "</font>\n",
    "</p>"
   ]
  },
  {
   "cell_type": "markdown",
   "metadata": {},
   "source": [
    "<h2 dir=rtl align=right style=\"line-height:200%;font-family:vazir;color:#0099cc\">\n",
    "<font face=\"vazir\" color=\"#0099cc\">\n",
    "<b>سلول جواب‌ساز</b>\n",
    "</font>\n",
    "</h2>\n",
    "\n",
    "<p dir=rtl style=\"direction: rtl; text-align: justify; line-height:200%; font-family:vazir; font-size:medium\">\n",
    "<font face=\"vazir\">\n",
    "در سلول‌های بعدی فایل‌های پاسخ شما را تولید می‌کنیم تا بتوانید در نهایت یک فایل فشرده با نام <code>result.zip</code> تحویل بگیرید که حاوی فایل‌های مورد نیاز جهت داوری خواهد بود. ابتدا نیاز است که پاسخ‌های شما یعنی متغیرهای <code>answer1</code> تا <code>answer16</code> را داخل یک لیست واحد ذخیره کنیم. سپس این لیست را به‌صورت یک فایل <code>JSON</code> ذخیره می‌کنیم. لطفاً کد زیر را <span style=\"color:red\">بدون تغییر</span> اجرا کنید.\n",
    "</font>\n",
    "</p>\n",
    "\n",
    "<p dir=rtl style=\"direction: rtl; text-align: justify; line-height:200%; font-family:vazir; font-size:medium\">\n",
    "<font face=\"vazir\" size=3>\n",
    "    برای ساخته‌شدن فایل <code>result.zip</code> سلول زیر را اجرا کنید. توجه داشته باشید که پیش از اجرای سلول زیر تغییرات اعمال شده در نت‌بوک را ذخیره کرده باشید (<code>ctrl+s</code>) تا در صورت نیاز به پشتیبانی امکان بررسی کد شما وجود داشته باشد. همچنین اگر از گوگل کولب استفاده می‌کنید، در صورت نیاز به پشتیبانی حتماً آخرین نسخه از نت‌بوک را به‌صورت دستی دانلود کرده و داخل فایل ارسالی قرار دهید یا لینک کولب را با ما به‌اشتراک بگذارید.\n",
    "</font>\n",
    "</p>"
   ]
  },
  {
   "cell_type": "code",
   "execution_count": null,
   "metadata": {},
   "outputs": [],
   "source": [
    "import zipfile\n",
    "import os\n",
    "import json\n",
    "\n",
    "# Make a list of the answers\n",
    "answers = [globals()[f'answer{i}'] for i in range(1, 17)]\n",
    "\n",
    "# Save the answers to a JSON file\n",
    "with open('answers.json', 'w') as f:\n",
    "    json.dump(answers, f, ensure_ascii=False, indent=4)\n",
    "\n",
    "notebook_path = 'librechat.ipynb'\n",
    "\n",
    "# Check if the notebook exists in the current directory and export it if it doesn't (for Colab)\n",
    "if not os.path.exists(os.path.join(os.getcwd(), notebook_path)):\n",
    "    %notebook -e librechat.ipynb\n",
    "\n",
    "# Compress the files into a zip archive\n",
    "def compress(file_names):\n",
    "    print(\"File Paths:\")\n",
    "    print(file_names)\n",
    "    compression = zipfile.ZIP_DEFLATED\n",
    "    with zipfile.ZipFile(\"result.zip\", mode=\"w\") as zf:\n",
    "        for file_name in file_names:\n",
    "            zf.write('./' + file_name, file_name, compress_type=compression)\n",
    "\n",
    "file_names = ['answers.json', notebook_path]\n",
    "compress(file_names)"
   ]
  },
  {
   "cell_type": "markdown",
   "metadata": {},
   "source": [
    "<p dir=rtl style=\"direction: rtl; text-align: justify; line-height:200%; font-family:vazir; font-size:medium\">\n",
    "<font face=\"vazir\">\n",
    "اکنون کافیست فایل <code>result.zip</code> را داخل سامانه داوری ارسال کنید تا امتیاز شما محاسبه شود.\n",
    "</font>\n",
    "</p>"
   ]
  },
  {
   "cell_type": "markdown",
   "metadata": {},
   "source": [
    "<p dir=rtl align=center style=\"line-height:200%;font-family:vazir;color:#0099cc\">\n",
    "<font face=\"vazir\" color=\"#0099cc\">\n",
    "© <a href=\"https://quera.org/\" target=\"_blank\">کوئرا | Quera</a>\n",
    "</font>\n",
    "</p>"
   ]
  }
 ],
 "metadata": {
  "kernelspec": {
   "display_name": "llm",
   "language": "python",
   "name": "llm"
  },
  "language_info": {
   "codemirror_mode": {
    "name": "ipython",
    "version": 3
   },
   "file_extension": ".py",
   "mimetype": "text/x-python",
   "name": "python",
   "nbconvert_exporter": "python",
   "pygments_lexer": "ipython3",
   "version": "3.12.3"
  }
 },
 "nbformat": 4,
 "nbformat_minor": 2
}
